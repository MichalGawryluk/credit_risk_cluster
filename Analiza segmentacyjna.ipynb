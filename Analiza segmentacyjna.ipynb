{
 "cells": [
  {
   "cell_type": "markdown",
   "metadata": {},
   "source": [
    "# TODO:\n",
    "\n",
    "1. Solve missing values problem? What methods used to reasonably handle (e.g. impute) NULL.\n",
    "2. Different PAYMENT HISTORIES - number of instalments, length of instalments"
   ]
  },
  {
   "cell_type": "code",
   "execution_count": 100,
   "metadata": {},
   "outputs": [],
   "source": [
    "import numpy as np\n",
    "import pandas as pd\n",
    "\n",
    "import plotly.express as px\n",
    "from plotly.offline import plot"
   ]
  },
  {
   "cell_type": "code",
   "execution_count": 101,
   "metadata": {},
   "outputs": [
    {
     "name": "stderr",
     "output_type": "stream",
     "text": [
      "C:\\Users\\MGawryluk1\\Anaconda3\\lib\\site-packages\\IPython\\core\\interactiveshell.py:3063: DtypeWarning:\n",
      "\n",
      "Columns (14,22,31,32,33) have mixed types.Specify dtype option on import or set low_memory=False.\n",
      "\n"
     ]
    }
   ],
   "source": [
    "df = pd.read_csv('BAZA_FAKTUROWA_SAMPLE_DATA_TABLE.dsv', sep=';')"
   ]
  },
  {
   "cell_type": "code",
   "execution_count": 102,
   "metadata": {},
   "outputs": [
    {
     "data": {
      "text/plain": [
       "Index(['COAG_ID', 'CONT_ID', 'CONT_SYCU_ID', 'COSH_STATUS', 'COSH_VALID_FROM',\n",
       "       'COSH_VALID_TO', 'COAG_CUAC_ID', 'COAG_AGREEMENT_DATE',\n",
       "       'COAG_EXPIRE_DATE', 'COAG_DURATION', 'COAG_EQUIP_OFFER_TYPE',\n",
       "       'COAG_LIFE_SEGMENT_CODE', 'COAG_CINP_END_DATE',\n",
       "       'COAG_HANDSET_CUSTOMER_PRICE', 'COAG_HANDSET_FULL_PRICE',\n",
       "       'COAG_LAST_AGREEMENT_FLAG', 'CONT_PRIME_SEGMENT_CODE',\n",
       "       'CONT_DEACTIVATE_DATE', 'CONT_DEACTIVATE_CSCR_ID', 'CONT_TYPE', 'RN',\n",
       "       'DAY_OF_SAMPLE', 'DAYS_OF_COAG_LIFE', 'SYCU_BIRTH_DATE', 'AGE',\n",
       "       'SYCU_GENDER', 'SYCU_ACTIVATION_DATE', 'DAYS_FROM_SYCU_ACTIVATION',\n",
       "       'CUAC_PESEL', 'CUAC_NIP', 'CUAC_REGON', 'DEFAULT_DATE',\n",
       "       'SC_FINISH_DATE', 'DAYS_TO_DEFAULT', 'CONI_BASE_VALUE',\n",
       "       'CONI_BRUTTO_INSTALMENT', 'CONI_DURATION_MONTHS', 'BILL_ID',\n",
       "       'BILL_BSCS_CUSTOMER_ID', 'BILL_INVOICE_NO', 'OHREFDATE', 'OHDUEDATE',\n",
       "       'CADXACT', 'CADOXACT', 'CADCURAMT_PAY', 'CADCONVDATE_EXCHANGE_GL',\n",
       "       'ROWNUMBER'],\n",
       "      dtype='object')"
      ]
     },
     "execution_count": 102,
     "metadata": {},
     "output_type": "execute_result"
    }
   ],
   "source": [
    "df.columns"
   ]
  },
  {
   "cell_type": "code",
   "execution_count": 103,
   "metadata": {},
   "outputs": [
    {
     "data": {
      "text/plain": [
       "1929349"
      ]
     },
     "execution_count": 103,
     "metadata": {},
     "output_type": "execute_result"
    }
   ],
   "source": [
    "len(df)"
   ]
  },
  {
   "cell_type": "markdown",
   "metadata": {},
   "source": [
    "- BILL_INVOICE_DATE\n",
    "- CADCONVDATE_EXCHANGE_GL DATA PLATNOSCI\n",
    "- ohduedate DATA WYMAGALNOSCI\n"
   ]
  },
  {
   "cell_type": "code",
   "execution_count": 104,
   "metadata": {},
   "outputs": [],
   "source": [
    "select = ['BILL_ID',\n",
    "       'BILL_BSCS_CUSTOMER_ID', 'BILL_INVOICE_NO', 'OHREFDATE', 'OHDUEDATE',\n",
    "       'CADXACT', 'CADOXACT', 'CADCURAMT_PAY', 'CADCONVDATE_EXCHANGE_GL',\n",
    "       'ROWNUMBER']\n",
    "\n",
    "short = df[select]"
   ]
  },
  {
   "cell_type": "code",
   "execution_count": 105,
   "metadata": {},
   "outputs": [],
   "source": [
    "short = short.drop_duplicates()"
   ]
  },
  {
   "cell_type": "code",
   "execution_count": 106,
   "metadata": {},
   "outputs": [],
   "source": [
    "short = short.iloc[:-1,:]"
   ]
  },
  {
   "cell_type": "code",
   "execution_count": 107,
   "metadata": {},
   "outputs": [
    {
     "data": {
      "text/plain": [
       "BILL_ID                     int64\n",
       "BILL_BSCS_CUSTOMER_ID       int64\n",
       "BILL_INVOICE_NO            object\n",
       "OHREFDATE                  object\n",
       "OHDUEDATE                  object\n",
       "CADXACT                     int64\n",
       "CADOXACT                    int64\n",
       "CADCURAMT_PAY              object\n",
       "CADCONVDATE_EXCHANGE_GL    object\n",
       "ROWNUMBER                   int64\n",
       "dtype: object"
      ]
     },
     "execution_count": 107,
     "metadata": {},
     "output_type": "execute_result"
    }
   ],
   "source": [
    "short.dtypes"
   ]
  },
  {
   "cell_type": "code",
   "execution_count": 108,
   "metadata": {},
   "outputs": [
    {
     "data": {
      "text/html": [
       "<div>\n",
       "<style scoped>\n",
       "    .dataframe tbody tr th:only-of-type {\n",
       "        vertical-align: middle;\n",
       "    }\n",
       "\n",
       "    .dataframe tbody tr th {\n",
       "        vertical-align: top;\n",
       "    }\n",
       "\n",
       "    .dataframe thead th {\n",
       "        text-align: right;\n",
       "    }\n",
       "</style>\n",
       "<table border=\"1\" class=\"dataframe\">\n",
       "  <thead>\n",
       "    <tr style=\"text-align: right;\">\n",
       "      <th></th>\n",
       "      <th>BILL_ID</th>\n",
       "      <th>BILL_BSCS_CUSTOMER_ID</th>\n",
       "      <th>BILL_INVOICE_NO</th>\n",
       "      <th>OHREFDATE</th>\n",
       "      <th>OHDUEDATE</th>\n",
       "      <th>CADXACT</th>\n",
       "      <th>CADOXACT</th>\n",
       "      <th>CADCURAMT_PAY</th>\n",
       "      <th>CADCONVDATE_EXCHANGE_GL</th>\n",
       "      <th>ROWNUMBER</th>\n",
       "    </tr>\n",
       "  </thead>\n",
       "  <tbody>\n",
       "    <tr>\n",
       "      <th>0</th>\n",
       "      <td>406328808</td>\n",
       "      <td>37833</td>\n",
       "      <td>Q49007710911</td>\n",
       "      <td>11/09/28</td>\n",
       "      <td>11/10/12</td>\n",
       "      <td>677260847</td>\n",
       "      <td>725255321</td>\n",
       "      <td>35</td>\n",
       "      <td>11/10/13</td>\n",
       "      <td>2</td>\n",
       "    </tr>\n",
       "    <tr>\n",
       "      <th>1</th>\n",
       "      <td>406328808</td>\n",
       "      <td>37833</td>\n",
       "      <td>Q49007710911</td>\n",
       "      <td>11/10/28</td>\n",
       "      <td>11/11/11</td>\n",
       "      <td>684107614</td>\n",
       "      <td>732256690</td>\n",
       "      <td>35</td>\n",
       "      <td>11/11/08</td>\n",
       "      <td>3</td>\n",
       "    </tr>\n",
       "    <tr>\n",
       "      <th>2</th>\n",
       "      <td>406328808</td>\n",
       "      <td>37833</td>\n",
       "      <td>Q49007710911</td>\n",
       "      <td>11/11/28</td>\n",
       "      <td>11/12/12</td>\n",
       "      <td>693265052</td>\n",
       "      <td>739347295</td>\n",
       "      <td>35</td>\n",
       "      <td>11/12/09</td>\n",
       "      <td>4</td>\n",
       "    </tr>\n",
       "    <tr>\n",
       "      <th>3</th>\n",
       "      <td>406328808</td>\n",
       "      <td>37833</td>\n",
       "      <td>Q49007710911</td>\n",
       "      <td>11/12/28</td>\n",
       "      <td>12/01/11</td>\n",
       "      <td>701903359</td>\n",
       "      <td>746619113</td>\n",
       "      <td>35</td>\n",
       "      <td>12/01/11</td>\n",
       "      <td>5</td>\n",
       "    </tr>\n",
       "    <tr>\n",
       "      <th>4</th>\n",
       "      <td>406328808</td>\n",
       "      <td>37833</td>\n",
       "      <td>Q49007710911</td>\n",
       "      <td>12/01/28</td>\n",
       "      <td>12/02/11</td>\n",
       "      <td>709590573</td>\n",
       "      <td>753933826</td>\n",
       "      <td>35</td>\n",
       "      <td>12/02/09</td>\n",
       "      <td>6</td>\n",
       "    </tr>\n",
       "    <tr>\n",
       "      <th>...</th>\n",
       "      <td>...</td>\n",
       "      <td>...</td>\n",
       "      <td>...</td>\n",
       "      <td>...</td>\n",
       "      <td>...</td>\n",
       "      <td>...</td>\n",
       "      <td>...</td>\n",
       "      <td>...</td>\n",
       "      <td>...</td>\n",
       "      <td>...</td>\n",
       "    </tr>\n",
       "    <tr>\n",
       "      <th>1929343</th>\n",
       "      <td>847231590</td>\n",
       "      <td>16598747</td>\n",
       "      <td>Q01700350117</td>\n",
       "      <td>18/07/28</td>\n",
       "      <td>18/08/11</td>\n",
       "      <td>1769254040</td>\n",
       "      <td>1663099464</td>\n",
       "      <td>43,05</td>\n",
       "      <td>18/10/10</td>\n",
       "      <td>20</td>\n",
       "    </tr>\n",
       "    <tr>\n",
       "      <th>1929344</th>\n",
       "      <td>847231590</td>\n",
       "      <td>16598747</td>\n",
       "      <td>Q01700350117</td>\n",
       "      <td>18/08/28</td>\n",
       "      <td>18/09/11</td>\n",
       "      <td>1769254041</td>\n",
       "      <td>1677507976</td>\n",
       "      <td>43,05</td>\n",
       "      <td>18/10/10</td>\n",
       "      <td>21</td>\n",
       "    </tr>\n",
       "    <tr>\n",
       "      <th>1929345</th>\n",
       "      <td>847231590</td>\n",
       "      <td>16598747</td>\n",
       "      <td>Q01700350117</td>\n",
       "      <td>18/09/28</td>\n",
       "      <td>18/10/12</td>\n",
       "      <td>1801502863</td>\n",
       "      <td>1691842604</td>\n",
       "      <td>43,05</td>\n",
       "      <td>18/12/18</td>\n",
       "      <td>22</td>\n",
       "    </tr>\n",
       "    <tr>\n",
       "      <th>1929346</th>\n",
       "      <td>847231590</td>\n",
       "      <td>16598747</td>\n",
       "      <td>Q01700350117</td>\n",
       "      <td>18/10/28</td>\n",
       "      <td>18/11/11</td>\n",
       "      <td>1801502868</td>\n",
       "      <td>1706016229</td>\n",
       "      <td>43,05</td>\n",
       "      <td>18/12/18</td>\n",
       "      <td>23</td>\n",
       "    </tr>\n",
       "    <tr>\n",
       "      <th>1929347</th>\n",
       "      <td>847231590</td>\n",
       "      <td>16598747</td>\n",
       "      <td>Q01700350117</td>\n",
       "      <td>18/11/28</td>\n",
       "      <td>18/12/12</td>\n",
       "      <td>1801502872</td>\n",
       "      <td>1720101423</td>\n",
       "      <td>43,05</td>\n",
       "      <td>18/12/18</td>\n",
       "      <td>24</td>\n",
       "    </tr>\n",
       "  </tbody>\n",
       "</table>\n",
       "<p>1929348 rows × 10 columns</p>\n",
       "</div>"
      ],
      "text/plain": [
       "           BILL_ID  BILL_BSCS_CUSTOMER_ID BILL_INVOICE_NO OHREFDATE OHDUEDATE  \\\n",
       "0        406328808                  37833    Q49007710911  11/09/28  11/10/12   \n",
       "1        406328808                  37833    Q49007710911  11/10/28  11/11/11   \n",
       "2        406328808                  37833    Q49007710911  11/11/28  11/12/12   \n",
       "3        406328808                  37833    Q49007710911  11/12/28  12/01/11   \n",
       "4        406328808                  37833    Q49007710911  12/01/28  12/02/11   \n",
       "...            ...                    ...             ...       ...       ...   \n",
       "1929343  847231590               16598747    Q01700350117  18/07/28  18/08/11   \n",
       "1929344  847231590               16598747    Q01700350117  18/08/28  18/09/11   \n",
       "1929345  847231590               16598747    Q01700350117  18/09/28  18/10/12   \n",
       "1929346  847231590               16598747    Q01700350117  18/10/28  18/11/11   \n",
       "1929347  847231590               16598747    Q01700350117  18/11/28  18/12/12   \n",
       "\n",
       "            CADXACT    CADOXACT CADCURAMT_PAY CADCONVDATE_EXCHANGE_GL  \\\n",
       "0         677260847   725255321            35                11/10/13   \n",
       "1         684107614   732256690            35                11/11/08   \n",
       "2         693265052   739347295            35                11/12/09   \n",
       "3         701903359   746619113            35                12/01/11   \n",
       "4         709590573   753933826            35                12/02/09   \n",
       "...             ...         ...           ...                     ...   \n",
       "1929343  1769254040  1663099464         43,05                18/10/10   \n",
       "1929344  1769254041  1677507976         43,05                18/10/10   \n",
       "1929345  1801502863  1691842604         43,05                18/12/18   \n",
       "1929346  1801502868  1706016229         43,05                18/12/18   \n",
       "1929347  1801502872  1720101423         43,05                18/12/18   \n",
       "\n",
       "         ROWNUMBER  \n",
       "0                2  \n",
       "1                3  \n",
       "2                4  \n",
       "3                5  \n",
       "4                6  \n",
       "...            ...  \n",
       "1929343         20  \n",
       "1929344         21  \n",
       "1929345         22  \n",
       "1929346         23  \n",
       "1929347         24  \n",
       "\n",
       "[1929348 rows x 10 columns]"
      ]
     },
     "execution_count": 108,
     "metadata": {},
     "output_type": "execute_result"
    }
   ],
   "source": [
    "short"
   ]
  },
  {
   "cell_type": "code",
   "execution_count": 109,
   "metadata": {},
   "outputs": [
    {
     "data": {
      "text/plain": [
       "BILL_ID                     int64\n",
       "BILL_BSCS_CUSTOMER_ID       int64\n",
       "BILL_INVOICE_NO            object\n",
       "OHREFDATE                  object\n",
       "OHDUEDATE                  object\n",
       "CADXACT                     int64\n",
       "CADOXACT                    int64\n",
       "CADCURAMT_PAY              object\n",
       "CADCONVDATE_EXCHANGE_GL    object\n",
       "ROWNUMBER                   int64\n",
       "dtype: object"
      ]
     },
     "execution_count": 109,
     "metadata": {},
     "output_type": "execute_result"
    }
   ],
   "source": [
    "short.dtypes"
   ]
  },
  {
   "cell_type": "code",
   "execution_count": 110,
   "metadata": {},
   "outputs": [],
   "source": [
    "date_vars = ['OHREFDATE', 'OHDUEDATE', 'CADCONVDATE_EXCHANGE_GL']\n",
    "\n",
    "for v in date_vars:\n",
    "    short[v] = pd.to_datetime(short[v], format='%y/%m/%d')"
   ]
  },
  {
   "cell_type": "code",
   "execution_count": 111,
   "metadata": {},
   "outputs": [
    {
     "data": {
      "text/plain": [
       "BILL_ID                             int64\n",
       "BILL_BSCS_CUSTOMER_ID               int64\n",
       "BILL_INVOICE_NO                    object\n",
       "OHREFDATE                  datetime64[ns]\n",
       "OHDUEDATE                  datetime64[ns]\n",
       "CADXACT                             int64\n",
       "CADOXACT                            int64\n",
       "CADCURAMT_PAY                      object\n",
       "CADCONVDATE_EXCHANGE_GL    datetime64[ns]\n",
       "ROWNUMBER                           int64\n",
       "dtype: object"
      ]
     },
     "execution_count": 111,
     "metadata": {},
     "output_type": "execute_result"
    }
   ],
   "source": [
    "short.dtypes"
   ]
  },
  {
   "cell_type": "code",
   "execution_count": 112,
   "metadata": {},
   "outputs": [
    {
     "data": {
      "text/html": [
       "<div>\n",
       "<style scoped>\n",
       "    .dataframe tbody tr th:only-of-type {\n",
       "        vertical-align: middle;\n",
       "    }\n",
       "\n",
       "    .dataframe tbody tr th {\n",
       "        vertical-align: top;\n",
       "    }\n",
       "\n",
       "    .dataframe thead th {\n",
       "        text-align: right;\n",
       "    }\n",
       "</style>\n",
       "<table border=\"1\" class=\"dataframe\">\n",
       "  <thead>\n",
       "    <tr style=\"text-align: right;\">\n",
       "      <th></th>\n",
       "      <th>BILL_ID</th>\n",
       "      <th>BILL_BSCS_CUSTOMER_ID</th>\n",
       "      <th>BILL_INVOICE_NO</th>\n",
       "      <th>OHREFDATE</th>\n",
       "      <th>OHDUEDATE</th>\n",
       "      <th>CADXACT</th>\n",
       "      <th>CADOXACT</th>\n",
       "      <th>CADCURAMT_PAY</th>\n",
       "      <th>CADCONVDATE_EXCHANGE_GL</th>\n",
       "      <th>ROWNUMBER</th>\n",
       "    </tr>\n",
       "  </thead>\n",
       "  <tbody>\n",
       "    <tr>\n",
       "      <th>0</th>\n",
       "      <td>406328808</td>\n",
       "      <td>37833</td>\n",
       "      <td>Q49007710911</td>\n",
       "      <td>2011-09-28</td>\n",
       "      <td>2011-10-12</td>\n",
       "      <td>677260847</td>\n",
       "      <td>725255321</td>\n",
       "      <td>35</td>\n",
       "      <td>2011-10-13</td>\n",
       "      <td>2</td>\n",
       "    </tr>\n",
       "    <tr>\n",
       "      <th>1</th>\n",
       "      <td>406328808</td>\n",
       "      <td>37833</td>\n",
       "      <td>Q49007710911</td>\n",
       "      <td>2011-10-28</td>\n",
       "      <td>2011-11-11</td>\n",
       "      <td>684107614</td>\n",
       "      <td>732256690</td>\n",
       "      <td>35</td>\n",
       "      <td>2011-11-08</td>\n",
       "      <td>3</td>\n",
       "    </tr>\n",
       "    <tr>\n",
       "      <th>2</th>\n",
       "      <td>406328808</td>\n",
       "      <td>37833</td>\n",
       "      <td>Q49007710911</td>\n",
       "      <td>2011-11-28</td>\n",
       "      <td>2011-12-12</td>\n",
       "      <td>693265052</td>\n",
       "      <td>739347295</td>\n",
       "      <td>35</td>\n",
       "      <td>2011-12-09</td>\n",
       "      <td>4</td>\n",
       "    </tr>\n",
       "    <tr>\n",
       "      <th>3</th>\n",
       "      <td>406328808</td>\n",
       "      <td>37833</td>\n",
       "      <td>Q49007710911</td>\n",
       "      <td>2011-12-28</td>\n",
       "      <td>2012-01-11</td>\n",
       "      <td>701903359</td>\n",
       "      <td>746619113</td>\n",
       "      <td>35</td>\n",
       "      <td>2012-01-11</td>\n",
       "      <td>5</td>\n",
       "    </tr>\n",
       "    <tr>\n",
       "      <th>4</th>\n",
       "      <td>406328808</td>\n",
       "      <td>37833</td>\n",
       "      <td>Q49007710911</td>\n",
       "      <td>2012-01-28</td>\n",
       "      <td>2012-02-11</td>\n",
       "      <td>709590573</td>\n",
       "      <td>753933826</td>\n",
       "      <td>35</td>\n",
       "      <td>2012-02-09</td>\n",
       "      <td>6</td>\n",
       "    </tr>\n",
       "    <tr>\n",
       "      <th>...</th>\n",
       "      <td>...</td>\n",
       "      <td>...</td>\n",
       "      <td>...</td>\n",
       "      <td>...</td>\n",
       "      <td>...</td>\n",
       "      <td>...</td>\n",
       "      <td>...</td>\n",
       "      <td>...</td>\n",
       "      <td>...</td>\n",
       "      <td>...</td>\n",
       "    </tr>\n",
       "    <tr>\n",
       "      <th>1929343</th>\n",
       "      <td>847231590</td>\n",
       "      <td>16598747</td>\n",
       "      <td>Q01700350117</td>\n",
       "      <td>2018-07-28</td>\n",
       "      <td>2018-08-11</td>\n",
       "      <td>1769254040</td>\n",
       "      <td>1663099464</td>\n",
       "      <td>43,05</td>\n",
       "      <td>2018-10-10</td>\n",
       "      <td>20</td>\n",
       "    </tr>\n",
       "    <tr>\n",
       "      <th>1929344</th>\n",
       "      <td>847231590</td>\n",
       "      <td>16598747</td>\n",
       "      <td>Q01700350117</td>\n",
       "      <td>2018-08-28</td>\n",
       "      <td>2018-09-11</td>\n",
       "      <td>1769254041</td>\n",
       "      <td>1677507976</td>\n",
       "      <td>43,05</td>\n",
       "      <td>2018-10-10</td>\n",
       "      <td>21</td>\n",
       "    </tr>\n",
       "    <tr>\n",
       "      <th>1929345</th>\n",
       "      <td>847231590</td>\n",
       "      <td>16598747</td>\n",
       "      <td>Q01700350117</td>\n",
       "      <td>2018-09-28</td>\n",
       "      <td>2018-10-12</td>\n",
       "      <td>1801502863</td>\n",
       "      <td>1691842604</td>\n",
       "      <td>43,05</td>\n",
       "      <td>2018-12-18</td>\n",
       "      <td>22</td>\n",
       "    </tr>\n",
       "    <tr>\n",
       "      <th>1929346</th>\n",
       "      <td>847231590</td>\n",
       "      <td>16598747</td>\n",
       "      <td>Q01700350117</td>\n",
       "      <td>2018-10-28</td>\n",
       "      <td>2018-11-11</td>\n",
       "      <td>1801502868</td>\n",
       "      <td>1706016229</td>\n",
       "      <td>43,05</td>\n",
       "      <td>2018-12-18</td>\n",
       "      <td>23</td>\n",
       "    </tr>\n",
       "    <tr>\n",
       "      <th>1929347</th>\n",
       "      <td>847231590</td>\n",
       "      <td>16598747</td>\n",
       "      <td>Q01700350117</td>\n",
       "      <td>2018-11-28</td>\n",
       "      <td>2018-12-12</td>\n",
       "      <td>1801502872</td>\n",
       "      <td>1720101423</td>\n",
       "      <td>43,05</td>\n",
       "      <td>2018-12-18</td>\n",
       "      <td>24</td>\n",
       "    </tr>\n",
       "  </tbody>\n",
       "</table>\n",
       "<p>1929348 rows × 10 columns</p>\n",
       "</div>"
      ],
      "text/plain": [
       "           BILL_ID  BILL_BSCS_CUSTOMER_ID BILL_INVOICE_NO  OHREFDATE  \\\n",
       "0        406328808                  37833    Q49007710911 2011-09-28   \n",
       "1        406328808                  37833    Q49007710911 2011-10-28   \n",
       "2        406328808                  37833    Q49007710911 2011-11-28   \n",
       "3        406328808                  37833    Q49007710911 2011-12-28   \n",
       "4        406328808                  37833    Q49007710911 2012-01-28   \n",
       "...            ...                    ...             ...        ...   \n",
       "1929343  847231590               16598747    Q01700350117 2018-07-28   \n",
       "1929344  847231590               16598747    Q01700350117 2018-08-28   \n",
       "1929345  847231590               16598747    Q01700350117 2018-09-28   \n",
       "1929346  847231590               16598747    Q01700350117 2018-10-28   \n",
       "1929347  847231590               16598747    Q01700350117 2018-11-28   \n",
       "\n",
       "         OHDUEDATE     CADXACT    CADOXACT CADCURAMT_PAY  \\\n",
       "0       2011-10-12   677260847   725255321            35   \n",
       "1       2011-11-11   684107614   732256690            35   \n",
       "2       2011-12-12   693265052   739347295            35   \n",
       "3       2012-01-11   701903359   746619113            35   \n",
       "4       2012-02-11   709590573   753933826            35   \n",
       "...            ...         ...         ...           ...   \n",
       "1929343 2018-08-11  1769254040  1663099464         43,05   \n",
       "1929344 2018-09-11  1769254041  1677507976         43,05   \n",
       "1929345 2018-10-12  1801502863  1691842604         43,05   \n",
       "1929346 2018-11-11  1801502868  1706016229         43,05   \n",
       "1929347 2018-12-12  1801502872  1720101423         43,05   \n",
       "\n",
       "        CADCONVDATE_EXCHANGE_GL  ROWNUMBER  \n",
       "0                    2011-10-13          2  \n",
       "1                    2011-11-08          3  \n",
       "2                    2011-12-09          4  \n",
       "3                    2012-01-11          5  \n",
       "4                    2012-02-09          6  \n",
       "...                         ...        ...  \n",
       "1929343              2018-10-10         20  \n",
       "1929344              2018-10-10         21  \n",
       "1929345              2018-12-18         22  \n",
       "1929346              2018-12-18         23  \n",
       "1929347              2018-12-18         24  \n",
       "\n",
       "[1929348 rows x 10 columns]"
      ]
     },
     "execution_count": 112,
     "metadata": {},
     "output_type": "execute_result"
    }
   ],
   "source": [
    "short"
   ]
  },
  {
   "cell_type": "code",
   "execution_count": 113,
   "metadata": {},
   "outputs": [],
   "source": [
    "# Przerobić na \n",
    "# BILL w rows\n",
    "# Kolumny platnosci\n",
    "# Wartosci po ilu dniach zaplacili OHDUEDATE - CADCONVDATE_EXCHANGE_GL"
   ]
  },
  {
   "cell_type": "code",
   "execution_count": 114,
   "metadata": {},
   "outputs": [],
   "source": [
    "short['when_paid_days'] = (short.CADCONVDATE_EXCHANGE_GL - short.OHDUEDATE).dt.days"
   ]
  },
  {
   "cell_type": "code",
   "execution_count": 115,
   "metadata": {},
   "outputs": [],
   "source": [
    "# ROWNUMBER as relative rata"
   ]
  },
  {
   "cell_type": "code",
   "execution_count": 116,
   "metadata": {},
   "outputs": [],
   "source": [
    "short.ROWNUMBER = short.ROWNUMBER - 1"
   ]
  },
  {
   "cell_type": "code",
   "execution_count": null,
   "metadata": {},
   "outputs": [],
   "source": [
    "unibill = short.groupby(['BILL_ID']).nunique()['BILL_INVOICE_NO']"
   ]
  },
  {
   "cell_type": "code",
   "execution_count": null,
   "metadata": {},
   "outputs": [],
   "source": [
    "np.unique(unibill)"
   ]
  },
  {
   "cell_type": "markdown",
   "metadata": {},
   "source": [
    "# PIVOTING"
   ]
  },
  {
   "cell_type": "code",
   "execution_count": null,
   "metadata": {},
   "outputs": [],
   "source": [
    "cdf = short.pivot(index='BILL_ID', columns ='ROWNUMBER', values='when_paid_days')\n",
    "cdf"
   ]
  },
  {
   "cell_type": "code",
   "execution_count": null,
   "metadata": {},
   "outputs": [],
   "source": [
    "# Only to contract length 36"
   ]
  },
  {
   "cell_type": "code",
   "execution_count": null,
   "metadata": {},
   "outputs": [],
   "source": [
    "cdf = cdf.iloc[:,:36]\n",
    "cdf"
   ]
  },
  {
   "cell_type": "code",
   "execution_count": null,
   "metadata": {},
   "outputs": [],
   "source": [
    "cdf = cdf.iloc[:,:24]\n",
    "cdf"
   ]
  },
  {
   "cell_type": "code",
   "execution_count": null,
   "metadata": {},
   "outputs": [],
   "source": [
    "cdf.values"
   ]
  },
  {
   "cell_type": "code",
   "execution_count": null,
   "metadata": {},
   "outputs": [],
   "source": [
    "cdf[~cdf.isna()]"
   ]
  },
  {
   "cell_type": "code",
   "execution_count": null,
   "metadata": {},
   "outputs": [],
   "source": [
    "kdcf = cdf.loc[~cdf.isna().any(axis=1),:]\n",
    "kdcf"
   ]
  },
  {
   "cell_type": "code",
   "execution_count": null,
   "metadata": {},
   "outputs": [],
   "source": [
    "from sklearn.cluster import KMeans"
   ]
  },
  {
   "cell_type": "code",
   "execution_count": null,
   "metadata": {},
   "outputs": [],
   "source": [
    "kmeans = KMeans()"
   ]
  },
  {
   "cell_type": "code",
   "execution_count": null,
   "metadata": {},
   "outputs": [],
   "source": [
    "clusters = kmeans.fit_predict(kdcf)"
   ]
  },
  {
   "cell_type": "code",
   "execution_count": null,
   "metadata": {},
   "outputs": [],
   "source": [
    "px.histogram(clusters)"
   ]
  },
  {
   "cell_type": "code",
   "execution_count": null,
   "metadata": {},
   "outputs": [],
   "source": []
  }
 ],
 "metadata": {
  "kernelspec": {
   "display_name": "Python 3",
   "language": "python",
   "name": "python3"
  },
  "language_info": {
   "codemirror_mode": {
    "name": "ipython",
    "version": 3
   },
   "file_extension": ".py",
   "mimetype": "text/x-python",
   "name": "python",
   "nbconvert_exporter": "python",
   "pygments_lexer": "ipython3",
   "version": "3.7.6"
  }
 },
 "nbformat": 4,
 "nbformat_minor": 4
}
